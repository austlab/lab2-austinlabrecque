{
  "nbformat": 4,
  "nbformat_minor": 0,
  "metadata": {
    "colab": {
      "name": "Untitled1.ipynb",
      "provenance": [],
      "authorship_tag": "ABX9TyN5s3/q3A9t5Y3E0F2Tj4yb",
      "include_colab_link": true
    },
    "kernelspec": {
      "name": "python3",
      "display_name": "Python 3"
    },
    "language_info": {
      "name": "python"
    }
  },
  "cells": [
    {
      "cell_type": "markdown",
      "metadata": {
        "id": "view-in-github",
        "colab_type": "text"
      },
      "source": [
        "<a href=\"https://colab.research.google.com/github/austlab/lab2-austinlabrecque/blob/main/lab2-austinlabrecque.ipynb\" target=\"_parent\"><img src=\"https://colab.research.google.com/assets/colab-badge.svg\" alt=\"Open In Colab\"/></a>"
      ]
    },
    {
      "cell_type": "code",
      "execution_count": null,
      "metadata": {
        "id": "v7QN2xCKBKbx"
      },
      "outputs": [],
      "source": [
        "#******************************************************************************\n",
        "# COMP 593 - Lab 2\n",
        "#\n",
        "# Description:\n",
        "#  Pulls info from pokeapi.co api and pastes info on pastebin.com using pastebinapi\n",
        "#\n",
        "# Usage:\n",
        "# Python scriptname.py\n",
        "#\n",
        "#  Date        Author   \n",
        "#  2/9/2022  Austin Labrecque  \n",
        "#******************************************************************************\n",
        "\n",
        "from http import client\n",
        "import urllib\n",
        "import json\n",
        "\n",
        "pokeApi = client.HTTPSConnection('pokeapi.co', 443)\n",
        "pokeApi.request('GET', '/api/v2/pokemon/ditto') \n",
        "response = pokeApi.getresponse()\n",
        "pokeApiJson = response.read().decode()\n",
        "pokeDictionary = json.loads(pokeApiJson)\n",
        "\n",
        "for entry1 in pokeDictionary['types']:\n",
        " pokeType = (entry1['type']['name'])\n",
        " \n",
        "for entry2 in pokeDictionary['forms']:\n",
        " pokeName = (entry2['name'])  \n",
        " \n",
        "pokeWeight = (pokeDictionary['weight'])\n",
        "\n",
        "pokeInfo = \"Name: \"+pokeName+\" Type: \"+pokeType+\" Weight: \"+str(pokeWeight) \n",
        "\n",
        "\n",
        "pasteBin = client.HTTPSConnection('pastebin.com', 443)\n",
        "pasteBinApi = \"f4R0OTFza_qTQ1NZJYLjoCeLqoHQux4X\"\n",
        "requestParams = {\n",
        "    'api_dev_key': pasteBinApi,\n",
        "    'api_option': 'paste',\n",
        "    'api_paste_code': pokeInfo\n",
        "}\n",
        "\n",
        "requestBody = urllib.parse.urlencode(requestParams)\n",
        "pasteBinHeaders = {'Content-Type': 'application/x-www-form-urlencoded'}\n",
        "\n",
        "pasteBinRequest = pasteBin.request('POST', '/api/api_post.php', body=requestBody, headers=pasteBinHeaders)\n",
        "pasteBinResponse = pasteBin.getresponse()\n",
        "\n",
        "if pasteBinResponse.status is 200:\n",
        "  print('Response:',pasteBinResponse.status, 'Here is your URL:')\n",
        "else:\n",
        "  print('Error, bad response:',pasteBinResponse.status)\n",
        "\n",
        "pasteBinData = pasteBinResponse.read()\n",
        "print(pasteBinData)\n"
      ]
    }
  ]
}